{
 "cells": [
  {
   "cell_type": "markdown",
   "id": "39f29c7c-1049-45f8-b18e-ade62a4fff52",
   "metadata": {},
   "source": [
    "#### <font color = 'green'> TIME SERIES ANALYSIS AND MODELING AND INDUSTRIALIZATION FOR FORECASTING THE ENERGY CONSUMPTION IN THE INDUSTRY"
   ]
  },
  {
   "cell_type": "markdown",
   "id": "4d54667e-a7f8-4cde-96f8-66900db931ac",
   "metadata": {},
   "source": [
    "###### Import necessary libaries"
   ]
  },
  {
   "cell_type": "code",
   "execution_count": 1,
   "id": "a3846157-5d9c-43f3-a49b-e139f37e7b03",
   "metadata": {},
   "outputs": [],
   "source": [
    "import os\n",
    "import numpy as np\n",
    "import pandas as pd\n",
    "import matplotlib.pyplot as plt\n",
    "import seaborn as sb\n",
    "import pickle\n",
    "import time\n",
    "from datetime import datetime"
   ]
  },
  {
   "cell_type": "markdown",
   "id": "f516b9b3-265e-4c29-bbce-db9e65157d97",
   "metadata": {},
   "source": [
    "###### Define the path to the folders containing the preprocessing and model artifacts"
   ]
  },
  {
   "cell_type": "code",
   "execution_count": 2,
   "id": "96fca86f-1030-44dd-94cb-d6b882b98453",
   "metadata": {},
   "outputs": [
    {
     "data": {
      "text/plain": [
       "'C:\\\\Users\\\\Olanrewaju Adegoke\\\\Desktop\\\\TechTern\\\\mywork\\\\Time_Series_Analysis_Projects\\\\Energy_Consumption_Forecast_Project\\\\notebooks'"
      ]
     },
     "execution_count": 2,
     "metadata": {},
     "output_type": "execute_result"
    }
   ],
   "source": [
    "os.getcwd()"
   ]
  },
  {
   "cell_type": "code",
   "execution_count": 3,
   "id": "30708e36-36f8-447e-9294-3df52b055770",
   "metadata": {},
   "outputs": [],
   "source": [
    "data_path = '../data'\n",
    "model_path = '../models'\n",
    "note_path = '../notebooks'"
   ]
  },
  {
   "cell_type": "markdown",
   "id": "bc99cc8e-33c9-4444-8047-39f32bbaf8c8",
   "metadata": {},
   "source": [
    "###### Function that load the model and preprocessing artifacts"
   ]
  },
  {
   "cell_type": "code",
   "execution_count": 4,
   "id": "bac235a8-b5d2-401b-800d-fc431f1172b3",
   "metadata": {},
   "outputs": [],
   "source": [
    "def load_engineered_feature_future_artifact():\n",
    "    os.chdir(model_path)\n",
    "    with open('engineered_feature_forecast_model.pkl', 'rb') as file:\n",
    "        features_forecast = pickle.load(file)\n",
    "    return features_forecast"
   ]
  },
  {
   "cell_type": "code",
   "execution_count": 5,
   "id": "7862a48a-c3be-453c-a387-7735d0e507d4",
   "metadata": {},
   "outputs": [],
   "source": [
    "def load_energy_model_for_future():\n",
    "    os.chdir(model_path)\n",
    "    with open('total_energy_model.pkl', 'rb') as file:\n",
    "        energy_model = pickle.load(file)\n",
    "    return energy_model"
   ]
  },
  {
   "cell_type": "markdown",
   "id": "c61491cc-a632-4571-b44f-4739b4835b82",
   "metadata": {},
   "source": [
    "###### Instantiate all the instances of the artifacts"
   ]
  },
  {
   "cell_type": "code",
   "execution_count": 6,
   "id": "d5f625ab-2f4d-491f-a82b-820b43c0665e",
   "metadata": {},
   "outputs": [],
   "source": [
    "os.chdir(model_path)\n",
    "features_forecast = load_engineered_feature_future_artifact()\n",
    "os.chdir(note_path)\n",
    "hourly_lag = features_forecast['1h_lag']\n",
    "eight_hour_lag = features_forecast['8h_lag']\n",
    "twenty_four_hour_lag = features_forecast['24h_lag']\n",
    "six_day_lag = features_forecast['6d_lag']\n",
    "mv_avg_2hr_mean = features_forecast['mv_avg_2hr_mean']\n",
    "mv_avg_2hr_std = features_forecast['mv_avg_2hr_std']\n",
    "mv_avg_24hr_mean = features_forecast['mv_avg_24hr_mean']\n",
    "mv_avg_24hr_std = features_forecast['mv_avg_24hr_std']"
   ]
  },
  {
   "cell_type": "code",
   "execution_count": 8,
   "id": "5c3027b2-db36-4108-aa96-d88245fdeafa",
   "metadata": {},
   "outputs": [],
   "source": [
    "os.chdir(model_path)\n",
    "energy_model = load_energy_model_for_future()\n",
    "os.chdir(note_path)\n",
    "total_energy_model = energy_model['total_energy_forecast_model']"
   ]
  },
  {
   "cell_type": "markdown",
   "id": "f7c8acd5-d8a6-4a25-8304-55646d1848ff",
   "metadata": {},
   "source": [
    "###### The prediction and inference pipeline"
   ]
  },
  {
   "cell_type": "code",
   "execution_count": 9,
   "id": "a69f838c-0869-4921-8ee3-947fca1edaae",
   "metadata": {},
   "outputs": [],
   "source": [
    "hourly_lag\n",
    "eight_hour_lag\n",
    "twenty_four_hour_lag\n",
    "six_day_lag\n",
    "mv_avg_2hr_mean\n",
    "mv_avg_2hr_std\n",
    "mv_avg_24hr_mean\n",
    "mv_avg_24hr_std\n",
    "\n",
    "total_energy_model\n",
    "\n",
    "def future_total_energy_prediction(start_date, num_of_hours):\n",
    "    cols = ['1h_lag', '8h_lag', '24h_lag', '6d_lag', 'mv_avg_2hr_mean',\n",
    "       'mv_avg_2hr_std', 'mv_avg_24hr_mean', 'mv_avg_24hr_std']\n",
    "\n",
    "    start_date = pd.to_datetime(start_date)\n",
    "    date_time_sequence = pd.date_range(start_date, periods=num_of_hours, freq='h')\n",
    "    date_time_df = pd.DataFrame(date_time_sequence, columns=['date_time'])\n",
    "    date_time = date_time_df.set_index('date_time')\n",
    "    date_time['hour'] = date_time.index.hour\n",
    "    date_time['day'] = date_time.index.dayofweek\n",
    "    date_time['month'] = date_time.index.month\n",
    "    date_time['year'] = date_time.index.year\n",
    "    \n",
    "    for col in cols:\n",
    "        \n",
    "        if col == '1h_lag':\n",
    "            pred_1hr_lag = hourly_lag.predict(date_time)\n",
    "            pred_1hr_lag_df = pd.DataFrame(pred_1hr_lag, columns=[col], index=date_time.index)\n",
    "            \n",
    "        if col == '8h_lag':\n",
    "            \n",
    "            pred_8hr_lag = eight_hour_lag.predict(date_time)\n",
    "            pred_8hr_lag_df = pd.DataFrame(pred_8hr_lag, columns=[col], index=date_time.index)\n",
    "\n",
    "        if col == '24h_lag':\n",
    "            \n",
    "            pred_24hr_lag = twenty_four_hour_lag.predict(date_time)\n",
    "            pred_24hr_lag_df = pd.DataFrame(pred_24hr_lag, columns=[col], index=date_time.index)\n",
    "\n",
    "        if col == '6d_lag':\n",
    "            \n",
    "            pred_6d_lag = six_day_lag.predict(date_time)\n",
    "            pred_6d_lag_df = pd.DataFrame(pred_6d_lag, columns=[col], index=date_time.index)\n",
    "\n",
    "        if col == 'mv_avg_2hr_mean':\n",
    "            \n",
    "            pred_mv_avg_2hr_mean = mv_avg_2hr_mean.predict(date_time)\n",
    "            pred_mv_avg_2hr_mean_df = pd.DataFrame(pred_mv_avg_2hr_mean, columns=[col], index=date_time.index)\n",
    "\n",
    "        if col == 'mv_avg_2hr_std':\n",
    "            \n",
    "            pred_mv_avg_2hr_std = mv_avg_2hr_std.predict(date_time)\n",
    "            pred_mv_avg_2hr_std_df = pd.DataFrame(pred_mv_avg_2hr_std, columns=[col], index=date_time.index)\n",
    "\n",
    "        if col == 'mv_avg_24hr_mean':\n",
    "            \n",
    "            pred_mv_avg_24hr_mean = mv_avg_24hr_mean.predict(date_time)\n",
    "            pred_mv_avg_24hr_mean_df = pd.DataFrame(pred_mv_avg_24hr_mean, columns=[col], index=date_time.index)\n",
    "\n",
    "        if col == 'mv_avg_24hr_std':\n",
    "\n",
    "            pred_mv_avg_24hr_std = mv_avg_24hr_std.predict(date_time)\n",
    "            pred_mv_avg_24hr_std_df = pd.DataFrame(pred_mv_avg_24hr_std, columns=[col], index=date_time.index)\n",
    "    \n",
    "    futuristic_features = pd.concat([pred_1hr_lag_df, pred_8hr_lag_df, pred_24hr_lag_df, pred_6d_lag_df, pred_mv_avg_2hr_mean_df,\n",
    "                            pred_mv_avg_2hr_std_df, pred_mv_avg_24hr_mean_df, pred_mv_avg_24hr_std_df, date_time], axis=1)\n",
    "\n",
    "    # Prediction\n",
    "    total_energy_predicted = total_energy_model.predict(futuristic_features)\n",
    "    total_energy_df = pd.DataFrame(total_energy_predicted, columns=[f'future_{num_of_hours}_hours_of_total_energy'], index=date_time.index)\n",
    "       \n",
    "    return total_energy_df"
   ]
  },
  {
   "cell_type": "markdown",
   "id": "14f9139d-1645-4ce5-80f9-c8db0700115e",
   "metadata": {},
   "source": [
    "###### Install gradio GUI interface"
   ]
  },
  {
   "cell_type": "raw",
   "id": "5ac4b7c4-766e-4581-8430-004dc3d83d77",
   "metadata": {},
   "source": [
    "!pip install gradio"
   ]
  },
  {
   "cell_type": "markdown",
   "id": "877ecf37-ecbf-48bd-9fec-4141592331bd",
   "metadata": {},
   "source": [
    "###### Launch the gradio interface for industrializing the model"
   ]
  },
  {
   "cell_type": "code",
   "execution_count": 10,
   "id": "e79114e8-4463-4374-9edd-7be70210d1c7",
   "metadata": {},
   "outputs": [
    {
     "name": "stderr",
     "output_type": "stream",
     "text": [
      "C:\\Users\\Olanrewaju Adegoke\\Desktop\\TechTern\\mywork\\Lib\\site-packages\\tqdm\\auto.py:21: TqdmWarning: IProgress not found. Please update jupyter and ipywidgets. See https://ipywidgets.readthedocs.io/en/stable/user_install.html\n",
      "  from .autonotebook import tqdm as notebook_tqdm\n"
     ]
    },
    {
     "name": "stdout",
     "output_type": "stream",
     "text": [
      "Running on local URL:  http://127.0.0.1:7863\n"
     ]
    },
    {
     "name": "stderr",
     "output_type": "stream",
     "text": [
      "C:\\Users\\Olanrewaju Adegoke\\Desktop\\TechTern\\mywork\\Lib\\site-packages\\gradio\\analytics.py:106: UserWarning: IMPORTANT: You are using gradio version 4.37.2, however version 4.44.1 is available, please upgrade. \n",
      "--------\n",
      "  warnings.warn(\n"
     ]
    },
    {
     "name": "stdout",
     "output_type": "stream",
     "text": [
      "Running on public URL: https://ce086cad8917812b50.gradio.live\n",
      "\n",
      "This share link expires in 72 hours. For free permanent hosting and GPU upgrades, run `gradio deploy` from Terminal to deploy to Spaces (https://huggingface.co/spaces)\n"
     ]
    },
    {
     "data": {
      "text/html": [
       "<div><iframe src=\"https://ce086cad8917812b50.gradio.live\" width=\"100%\" height=\"500\" allow=\"autoplay; camera; microphone; clipboard-read; clipboard-write;\" frameborder=\"0\" allowfullscreen></iframe></div>"
      ],
      "text/plain": [
       "<IPython.core.display.HTML object>"
      ]
     },
     "metadata": {},
     "output_type": "display_data"
    },
    {
     "data": {
      "text/plain": []
     },
     "execution_count": 10,
     "metadata": {},
     "output_type": "execute_result"
    }
   ],
   "source": [
    "import gradio as gr\n",
    "\n",
    "sample_data = [['2026-02-13 06:59:59', 300], ['2030-01-01 00:00:00', 4032]]\n",
    "\n",
    "inputs=[\n",
    "        gr.Textbox(label='start_date'),\n",
    "        gr.Number(label='num_of_hours')\n",
    "    ]\n",
    "\n",
    "outputs = [gr.Dataframe(row_count = (1, \"dynamic\"), col_count=(1, \"fixed\"), label=\"Energy Consumption Prediction in Watts\", headers=['energy_consumed'])]\n",
    "\n",
    "title='Time Series Model for Energy Consumption Forecast for any number of hours into the future by Olanrewaju Adegoke'\n",
    "description='You want to estimate the energy consumption for the next 1000 hours, provide the two information and have your energy consumption estimated.'\n",
    "\n",
    "interface = gr.Interface(fn = future_total_energy_prediction, inputs = inputs, outputs = outputs, title=title, description=description, examples=sample_data)\n",
    "\n",
    "interface.launch(share=True)"
   ]
  },
  {
   "cell_type": "code",
   "execution_count": null,
   "id": "edb17ea0-d9a6-496f-bdba-d8f8e54e4ee9",
   "metadata": {},
   "outputs": [],
   "source": []
  }
 ],
 "metadata": {
  "kernelspec": {
   "display_name": "Python 3 (ipykernel)",
   "language": "python",
   "name": "python3"
  },
  "language_info": {
   "codemirror_mode": {
    "name": "ipython",
    "version": 3
   },
   "file_extension": ".py",
   "mimetype": "text/x-python",
   "name": "python",
   "nbconvert_exporter": "python",
   "pygments_lexer": "ipython3",
   "version": "3.12.1"
  }
 },
 "nbformat": 4,
 "nbformat_minor": 5
}
